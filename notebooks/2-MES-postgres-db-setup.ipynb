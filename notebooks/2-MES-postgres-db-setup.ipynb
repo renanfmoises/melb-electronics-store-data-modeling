{
 "cells": [
  {
   "cell_type": "code",
   "execution_count": 1,
   "id": "bf76d55f",
   "metadata": {},
   "outputs": [],
   "source": [
    "import pandas as pd\n",
    "import numpy as np\n",
    "\n",
    "import matplotlib.pyplot as plt\n",
    "import seaborn as sns\n",
    "\n",
    "import psycopg2\n",
    "\n",
    "# from warnings import simplefilter\n",
    "# simplefilter('ignore')\n",
    "pd.set_option(\"display.max_columns\", None)"
   ]
  },
  {
   "cell_type": "code",
   "execution_count": 2,
   "id": "d45c0136",
   "metadata": {},
   "outputs": [
    {
     "data": {
      "text/html": [
       "<div>\n",
       "<style scoped>\n",
       "    .dataframe tbody tr th:only-of-type {\n",
       "        vertical-align: middle;\n",
       "    }\n",
       "\n",
       "    .dataframe tbody tr th {\n",
       "        vertical-align: top;\n",
       "    }\n",
       "\n",
       "    .dataframe thead th {\n",
       "        text-align: right;\n",
       "    }\n",
       "</style>\n",
       "<table border=\"1\" class=\"dataframe\">\n",
       "  <thead>\n",
       "    <tr style=\"text-align: right;\">\n",
       "      <th></th>\n",
       "      <th>customer_id</th>\n",
       "      <th>customer_lat</th>\n",
       "      <th>customer_long</th>\n",
       "      <th>nearest_warehouse_id</th>\n",
       "      <th>is_happy_customer</th>\n",
       "    </tr>\n",
       "  </thead>\n",
       "  <tbody>\n",
       "    <tr>\n",
       "      <th>0</th>\n",
       "      <td>ID0844489306</td>\n",
       "      <td>-37.820755</td>\n",
       "      <td>144.948063</td>\n",
       "      <td>MELBTHOM</td>\n",
       "      <td>True</td>\n",
       "    </tr>\n",
       "    <tr>\n",
       "      <th>1</th>\n",
       "      <td>ID6167417934</td>\n",
       "      <td>-37.814972</td>\n",
       "      <td>144.960240</td>\n",
       "      <td>MELBNICK</td>\n",
       "      <td>True</td>\n",
       "    </tr>\n",
       "    <tr>\n",
       "      <th>2</th>\n",
       "      <td>ID4326586172</td>\n",
       "      <td>-37.800770</td>\n",
       "      <td>144.957410</td>\n",
       "      <td>MELBTHOM</td>\n",
       "      <td>True</td>\n",
       "    </tr>\n",
       "    <tr>\n",
       "      <th>3</th>\n",
       "      <td>ID4735909071</td>\n",
       "      <td>-37.804318</td>\n",
       "      <td>144.950049</td>\n",
       "      <td>MELBTHOM</td>\n",
       "      <td>True</td>\n",
       "    </tr>\n",
       "    <tr>\n",
       "      <th>4</th>\n",
       "      <td>ID0207085738</td>\n",
       "      <td>-37.812585</td>\n",
       "      <td>145.015529</td>\n",
       "      <td>MELBBAKE</td>\n",
       "      <td>True</td>\n",
       "    </tr>\n",
       "  </tbody>\n",
       "</table>\n",
       "</div>"
      ],
      "text/plain": [
       "    customer_id  customer_lat  customer_long nearest_warehouse_id  \\\n",
       "0  ID0844489306    -37.820755     144.948063             MELBTHOM   \n",
       "1  ID6167417934    -37.814972     144.960240             MELBNICK   \n",
       "2  ID4326586172    -37.800770     144.957410             MELBTHOM   \n",
       "3  ID4735909071    -37.804318     144.950049             MELBTHOM   \n",
       "4  ID0207085738    -37.812585     145.015529             MELBBAKE   \n",
       "\n",
       "   is_happy_customer  \n",
       "0               True  \n",
       "1               True  \n",
       "2               True  \n",
       "3               True  \n",
       "4               True  "
      ]
     },
     "execution_count": 2,
     "metadata": {},
     "output_type": "execute_result"
    }
   ],
   "source": [
    "customers = pd.read_csv(\"../data/relational/customers.csv\")\n",
    "customers.head()"
   ]
  },
  {
   "cell_type": "code",
   "execution_count": 3,
   "id": "d36f9f8c",
   "metadata": {},
   "outputs": [
    {
     "name": "stdout",
     "output_type": "stream",
     "text": [
      "<class 'pandas.core.frame.DataFrame'>\n",
      "RangeIndex: 973 entries, 0 to 972\n",
      "Data columns (total 5 columns):\n",
      " #   Column                Non-Null Count  Dtype  \n",
      "---  ------                --------------  -----  \n",
      " 0   customer_id           973 non-null    object \n",
      " 1   customer_lat          964 non-null    float64\n",
      " 2   customer_long         964 non-null    float64\n",
      " 3   nearest_warehouse_id  956 non-null    object \n",
      " 4   is_happy_customer     973 non-null    bool   \n",
      "dtypes: bool(1), float64(2), object(2)\n",
      "memory usage: 31.5+ KB\n"
     ]
    }
   ],
   "source": [
    "customers.info()"
   ]
  },
  {
   "cell_type": "code",
   "execution_count": 4,
   "id": "755fbd27",
   "metadata": {
    "scrolled": true
   },
   "outputs": [
    {
     "name": "stdout",
     "output_type": "stream",
     "text": [
      "CREATE TABLE \"customers\" (\n",
      "\"customer_id\" TEXT,\n",
      "  \"customer_lat\" REAL,\n",
      "  \"customer_long\" REAL,\n",
      "  \"nearest_warehouse_id\" TEXT,\n",
      "  \"is_happy_customer\" INTEGER\n",
      ")\n"
     ]
    }
   ],
   "source": [
    "print(pd.io.sql.get_schema(customers, \"customers\"))"
   ]
  },
  {
   "cell_type": "code",
   "execution_count": null,
   "id": "14708614",
   "metadata": {},
   "outputs": [],
   "source": []
  },
  {
   "cell_type": "code",
   "execution_count": null,
   "id": "2f76007e",
   "metadata": {},
   "outputs": [],
   "source": [
    "\"\"\"\n",
    "CREATE TABLE \"customers\" (\n",
    "    \"customer_id\" TEXT,\n",
    "    \"customer_lat\" REAL,\n",
    "    \"customer_long\" REAL,\n",
    "    \"nearest_warehouse_id\" TEXT,\n",
    "    \"is_happy_customer\" INTEGER\n",
    ")\n",
    "\"\"\""
   ]
  }
 ],
 "metadata": {
  "kernelspec": {
   "display_name": "Python 3 (ipykernel)",
   "language": "python",
   "name": "python3"
  },
  "language_info": {
   "codemirror_mode": {
    "name": "ipython",
    "version": 3
   },
   "file_extension": ".py",
   "mimetype": "text/x-python",
   "name": "python",
   "nbconvert_exporter": "python",
   "pygments_lexer": "ipython3",
   "version": "3.10.6"
  }
 },
 "nbformat": 4,
 "nbformat_minor": 5
}
