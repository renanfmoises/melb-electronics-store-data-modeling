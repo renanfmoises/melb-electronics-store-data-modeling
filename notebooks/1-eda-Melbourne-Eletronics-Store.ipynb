{
 "cells": [
  {
   "cell_type": "markdown",
   "id": "fc8c6fd3",
   "metadata": {},
   "source": [
    "# Melbourne Eletronics Store\n",
    "\n",
    "## Exploratory Data Analysis"
   ]
  },
  {
   "cell_type": "markdown",
   "id": "f6c80229",
   "metadata": {},
   "source": [
    "**Libraries & imports**"
   ]
  },
  {
   "cell_type": "code",
   "execution_count": null,
   "id": "69f50f27",
   "metadata": {},
   "outputs": [],
   "source": [
    "import re\n",
    "\n",
    "import pandas as pd\n",
    "import numpy as np\n",
    "\n",
    "import matplotlib.pyplot as plt\n",
    "import seaborn as sns\n",
    "import plotly.express as px\n",
    "\n",
    "from faker import Faker\n",
    "\n",
    "from warnings import simplefilter\n",
    "simplefilter('ignore')\n",
    "pd.set_option('display.max_columns', None)"
   ]
  },
  {
   "cell_type": "markdown",
   "id": "bf234578",
   "metadata": {},
   "source": [
    "## The Dataset"
   ]
  },
  {
   "cell_type": "markdown",
   "id": "56dda5f7",
   "metadata": {},
   "source": [
    "**This dataset is publicly available and is a courtesy of Shahrayar (Owner).**\n",
    "\n",
    "**Thank you, Shahrayar!**\n",
    "\n",
    "\n",
    "----\n",
    "### Melbourne Eletronics Store dataset\n",
    "\n",
    "**Data Dictionary** \n",
    "- `order_id`: A unique id for each order\n",
    "- `customer_id`: A unique id for each customer\n",
    "- `date`: The date the order was made, given in YYYY-MM-DD format\n",
    "- `nearest_warehouse`: A string denoting the name of the nearest warehouse to the customer\n",
    "- `shopping_cart`: A list of tuples representing the order items: the first element of the tuple is the item ordered, and the second element is the quantity ordered for such item.\n",
    "- `order_price`: A float denoting the order price in USD. The order price is the price of items before any discounts and/or delivery charges are applied.\n",
    "- `delivery_charges`: A float representing the delivery charges of the order\n",
    "- `customer_lat`: Latitude of the customer’s location\n",
    "- `customer_long`: Longitude of the customer’s location\n",
    "- `coupondiscount`: An integer denoting the percentage discount to be applied to the orderprice.\n",
    "- `order_total`: A float denoting the total of the order in USD after all discounts and/or delivery charges are applied.\n",
    "- `season`: A string denoting the season in which the order was placed.\n",
    "- `isexpediteddelivery`: A boolean denoting whether the customer has requested an expedited delivery\n",
    "- `distancetonearest_warehouse`: A float representing the arc distance, in kilometres, between the customer and the nearest warehouse to him/her.\n",
    "- `latestcustomerreview`: A string representing the latest customer review on his/her most recent order\n",
    "- `ishappycustomer`: A boolean denoting whether the customer is a happy customer or had an issue with his/her last order.\n",
    "\n",
    "**Inspiration**\n",
    "\n",
    "Use this dataset to perform graphical and/or non-graphical EDA methods to understand the data first and then find and fix the data problems.\n",
    "\n",
    "**Possible analysis**\n",
    "- Detect and fix errors in dirty_data.csv\n",
    "- Impute the missing values in missing_data.csv\n",
    "- Detect and remove Anolamies\n",
    "- To check whether a customer is happy with their last order"
   ]
  },
  {
   "cell_type": "code",
   "execution_count": null,
   "id": "2b44e1b7",
   "metadata": {},
   "outputs": [],
   "source": [
    "# Check file names\n",
    "!ls ../data/raw"
   ]
  },
  {
   "cell_type": "code",
   "execution_count": null,
   "id": "578b84da",
   "metadata": {},
   "outputs": [],
   "source": [
    "# Load dirty_data dataset\n",
    "dirty = pd.read_csv('../data/raw/dirty_data.csv')\n",
    "dirty.head()"
   ]
  },
  {
   "cell_type": "code",
   "execution_count": null,
   "id": "31d2e7da",
   "metadata": {},
   "outputs": [],
   "source": [
    "# Check dirty dataset's info\n",
    "dirty.info()"
   ]
  },
  {
   "cell_type": "code",
   "execution_count": null,
   "id": "10dc0486",
   "metadata": {},
   "outputs": [],
   "source": [
    "# Loading missing_data dataset\n",
    "missing = pd.read_csv('../data/raw/missing_data.csv')\n",
    "missing.head()"
   ]
  },
  {
   "cell_type": "code",
   "execution_count": null,
   "id": "783daede",
   "metadata": {},
   "outputs": [],
   "source": [
    "# Check missing dataset's info\n",
    "missing.info()"
   ]
  },
  {
   "cell_type": "code",
   "execution_count": null,
   "id": "063ed1d5",
   "metadata": {},
   "outputs": [],
   "source": [
    "# Load warehouses dataset\n",
    "warehouses = pd.read_csv('../data/raw/warehouses.csv')\n",
    "warehouses.head()"
   ]
  },
  {
   "cell_type": "code",
   "execution_count": null,
   "id": "adc85cec",
   "metadata": {},
   "outputs": [],
   "source": [
    "# Check warehouses dataset's info\n",
    "warehouses.info()"
   ]
  },
  {
   "cell_type": "code",
   "execution_count": null,
   "id": "90ed0adf",
   "metadata": {},
   "outputs": [],
   "source": [
    "warehouses['warehouse_id'] = [1, 2, 3]"
   ]
  },
  {
   "cell_type": "code",
   "execution_count": null,
   "id": "ff08c9d8",
   "metadata": {},
   "outputs": [],
   "source": [
    "warehouses"
   ]
  },
  {
   "cell_type": "code",
   "execution_count": null,
   "id": "be4166cd",
   "metadata": {},
   "outputs": [],
   "source": [
    "# Where are these lot, lon?\n",
    "color_scale = [(0, 'blue'), (1, 'gray')]\n",
    "\n",
    "fig = px.scatter_mapbox(warehouses, \n",
    "                        lat=\"lat\", \n",
    "                        lon=\"lon\", \n",
    "                        hover_name=\"names\", \n",
    "                        hover_data=[\"names\", \"names\"],\n",
    "                        color=\"names\",\n",
    "                        color_continuous_scale=color_scale,\n",
    "                        zoom=12, \n",
    "                        height=300,\n",
    "                        width=950)\n",
    "\n",
    "fig.update_layout(mapbox_style=\"carto-positron\")\n",
    "fig.update_layout(margin={\"r\":0,\"t\":0,\"l\":0,\"b\":0})\n",
    "fig.show()"
   ]
  },
  {
   "cell_type": "markdown",
   "id": "aa0fb7fe",
   "metadata": {},
   "source": [
    "**Melbourne**!"
   ]
  },
  {
   "cell_type": "code",
   "execution_count": null,
   "id": "97bd35d5",
   "metadata": {},
   "outputs": [],
   "source": [
    "# Missing? Dirty? Why two datasets?\n",
    "\n",
    "print('Missing dataset: ', missing.shape)\n",
    "display(missing.head())\n",
    "print('\\n')\n",
    "print('Dirty dataset: ', dirty.shape)\n",
    "display(dirty.head())"
   ]
  },
  {
   "cell_type": "code",
   "execution_count": null,
   "id": "70cce0da",
   "metadata": {},
   "outputs": [],
   "source": [
    "missing.columns.all() == dirty.columns.all()"
   ]
  },
  {
   "cell_type": "code",
   "execution_count": null,
   "id": "81181132",
   "metadata": {},
   "outputs": [],
   "source": [
    "orders = pd.concat([missing, dirty]).sort_values('date').reset_index().iloc[:, 1:]\n",
    "orders.head()"
   ]
  },
  {
   "cell_type": "code",
   "execution_count": null,
   "id": "a8d7c27d",
   "metadata": {},
   "outputs": [],
   "source": [
    "orders.info()"
   ]
  },
  {
   "cell_type": "markdown",
   "id": "287e672a",
   "metadata": {},
   "source": [
    "Research:\n",
    "- Shopping cart? Are those order_iterms glued togheter within a `List[Tuple]`?\n",
    "\n",
    "- We don't have order_item price?\n",
    "- Dataset is organized by orders;"
   ]
  },
  {
   "cell_type": "code",
   "execution_count": null,
   "id": "0c78c561",
   "metadata": {},
   "outputs": [],
   "source": [
    "orders[['order_price', 'order_total', 'coupon_discount']]"
   ]
  },
  {
   "cell_type": "code",
   "execution_count": null,
   "id": "e258adf0",
   "metadata": {},
   "outputs": [],
   "source": []
  },
  {
   "cell_type": "code",
   "execution_count": null,
   "id": "2c879af9",
   "metadata": {},
   "outputs": [],
   "source": [
    "pattern = (r'\\'(\\w* ?\\d*[\\w.]*)\\'')\n",
    "\n",
    "orders_items_re_df = orders['shopping_cart'].str.extractall(pattern, flags=re.IGNORECASE)\n",
    "orders_items_re_df"
   ]
  },
  {
   "cell_type": "code",
   "execution_count": null,
   "id": "2e521139",
   "metadata": {},
   "outputs": [],
   "source": [
    "level_0_product_df = orders_items_re_df.reset_index()\n",
    "level_0_product_df"
   ]
  },
  {
   "cell_type": "code",
   "execution_count": null,
   "id": "5bed26cb",
   "metadata": {},
   "outputs": [],
   "source": [
    "index_customer_id_df = orders.reset_index()[['index', 'order_id', 'customer_id']]\n",
    "\n",
    "order_items_messed = index_customer_id_df.merge(level_0_product_df, right_on='level_0', left_on='index')\n",
    "order_items_messed.columns = ['index', 'order_id', 'customer_id', 'level_0', 'match', 'product_name']\n",
    "order_items_df = order_items_messed.iloc[:, [1, 2, 5]]\n",
    "order_items_df.head()"
   ]
  },
  {
   "cell_type": "code",
   "execution_count": null,
   "id": "cb231857",
   "metadata": {},
   "outputs": [],
   "source": [
    "products_unique = order_items_df['product_name'].unique()\n",
    "products_unique"
   ]
  },
  {
   "cell_type": "code",
   "execution_count": null,
   "id": "b48a1162",
   "metadata": {},
   "outputs": [],
   "source": [
    "faker = Faker()"
   ]
  },
  {
   "cell_type": "code",
   "execution_count": null,
   "id": "6d8ab31e",
   "metadata": {},
   "outputs": [],
   "source": [
    "product_id = [faker.ean13() for i in range(len(products_unique))]\n",
    "\n",
    "len(set(product_id)) == len(product_id) # check if values are unique"
   ]
  },
  {
   "cell_type": "code",
   "execution_count": null,
   "id": "b0e23825",
   "metadata": {},
   "outputs": [],
   "source": [
    "# product_id_dict = dict(zip(product_id, products_unique))\n",
    "# product_id_dict"
   ]
  },
  {
   "cell_type": "code",
   "execution_count": null,
   "id": "d6dced98",
   "metadata": {},
   "outputs": [],
   "source": [
    "products_df = pd.DataFrame()\n",
    "products_df['product_id'] = product_id\n",
    "products_df['product_name'] = products_unique"
   ]
  },
  {
   "cell_type": "code",
   "execution_count": null,
   "id": "2d9b4488",
   "metadata": {},
   "outputs": [],
   "source": [
    "products_df"
   ]
  },
  {
   "cell_type": "code",
   "execution_count": null,
   "id": "46be8371",
   "metadata": {},
   "outputs": [],
   "source": [
    "products_df['product_name'] = products_df['product_name'].str.title()\n",
    "products_df.sample(10)"
   ]
  },
  {
   "cell_type": "code",
   "execution_count": null,
   "id": "8540d461",
   "metadata": {},
   "outputs": [],
   "source": [
    "display(products_df.head())\n",
    "\n",
    "display(order_items_df.head())"
   ]
  },
  {
   "cell_type": "code",
   "execution_count": null,
   "id": "1b8117fe",
   "metadata": {},
   "outputs": [],
   "source": [
    "order_items_df = order_items_df.merge(products_df, on = 'product_name')[['order_id', \n",
    "                                                                      'customer_id', \n",
    "                                                                      'product_id', \n",
    "                                                                      'product_name']]\n",
    "order_items_df.head()"
   ]
  },
  {
   "cell_type": "code",
   "execution_count": null,
   "id": "13ee3202",
   "metadata": {},
   "outputs": [],
   "source": [
    "orders.head()"
   ]
  },
  {
   "cell_type": "code",
   "execution_count": null,
   "id": "30b5a3e3",
   "metadata": {},
   "outputs": [],
   "source": [
    "orders[['order_id', 'order_price', 'delivery_charges', 'is_expedited_delivery', 'nearest_warehouse', 'distance_to_nearest_warehouse']]"
   ]
  },
  {
   "cell_type": "code",
   "execution_count": null,
   "id": "8587caec",
   "metadata": {},
   "outputs": [],
   "source": [
    "len('melb-electronics-store-data-modeling')"
   ]
  },
  {
   "cell_type": "markdown",
   "id": "c2ee7ccd",
   "metadata": {},
   "source": [
    "# Customers"
   ]
  },
  {
   "cell_type": "code",
   "execution_count": null,
   "id": "54d8c70f",
   "metadata": {},
   "outputs": [],
   "source": [
    "orders.head()"
   ]
  },
  {
   "cell_type": "code",
   "execution_count": null,
   "id": "0ba3b19d",
   "metadata": {},
   "outputs": [],
   "source": [
    "orders['customer_id'].nunique() # Almost all clients are first time buyersn"
   ]
  },
  {
   "cell_type": "code",
   "execution_count": null,
   "id": "f6c8ff9c",
   "metadata": {},
   "outputs": [],
   "source": [
    "customers_df = orders.drop_duplicates(subset=['customer_id'], keep='first')[['customer_id', \n",
    "                                                                             'customer_lat', \n",
    "                                                                             'customer_long', \n",
    "                                                                             'nearest_warehouse']]\n",
    "\n",
    "customers_df.head()"
   ]
  },
  {
   "cell_type": "code",
   "execution_count": null,
   "id": "1ee20101",
   "metadata": {},
   "outputs": [],
   "source": []
  }
 ],
 "metadata": {
  "kernelspec": {
   "display_name": "Python 3 (ipykernel)",
   "language": "python",
   "name": "python3"
  },
  "language_info": {
   "codemirror_mode": {
    "name": "ipython",
    "version": 3
   },
   "file_extension": ".py",
   "mimetype": "text/x-python",
   "name": "python",
   "nbconvert_exporter": "python",
   "pygments_lexer": "ipython3",
   "version": "3.10.6"
  }
 },
 "nbformat": 4,
 "nbformat_minor": 5
}
